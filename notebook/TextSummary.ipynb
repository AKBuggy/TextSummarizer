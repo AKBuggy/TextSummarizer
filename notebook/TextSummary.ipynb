{
 "cells": [
  {
   "cell_type": "code",
   "execution_count": 1,
   "id": "38a6ac0c-ced4-4395-b89c-cc1ec99bb0f1",
   "metadata": {},
   "outputs": [],
   "source": [
    "import nltk\n",
    "from nltk.corpus import stopwords\n",
    "from nltk.tokenize import sent_tokenize, word_tokenize\n",
    "from nltk.probability import FreqDist\n",
    "\n",
    "def extractive_summarizer(text, num_sentences):\n",
    "    # Tokenize the text into sentences and words\n",
    "    sentences = sent_tokenize(text)\n",
    "    words = word_tokenize(text)\n",
    "    \n",
    "    # Remove stopwords\n",
    "    stop_words = set(stopwords.words('english'))\n",
    "    words = [word.lower() for word in words if word.isalpha() and word.lower() not in stop_words]\n",
    "    \n",
    "    # Calculate word frequencies\n",
    "    word_frequencies = FreqDist(words)\n",
    "    \n",
    "    # Assign scores to sentences based on word frequencies\n",
    "    sentence_scores = {}\n",
    "    for i, sentence in enumerate(sentences):\n",
    "        for word in word_tokenize(sentence.lower()):\n",
    "            if word in word_frequencies:\n",
    "                if sentence not in sentence_scores:\n",
    "                    sentence_scores[sentence] = word_frequencies[word]\n",
    "                else:\n",
    "                    sentence_scores[sentence] += word_frequencies[word]\n",
    "    \n",
    "    # Select the top-scoring sentences\n",
    "    top_sentences = sorted(sentence_scores, key=sentence_scores.get, reverse=True)[:num_sentences]\n",
    "    \n",
    "    # Construct the summary\n",
    "    summary = ' '.join(top_sentences)\n",
    "    return summary"
   ]
  },
  {
   "cell_type": "code",
   "execution_count": 3,
   "id": "c42ced53-7f15-4bae-85bc-afaf6c51e607",
   "metadata": {},
   "outputs": [
    {
     "name": "stdout",
     "output_type": "stream",
     "text": [
      "Summary:\n",
      "You can browse GitHub Explore, GitHub Topics, or Awesome Lists to find some ideas.Read the project’s README, CONTRIBUTING, and CODE_OF_CONDUCT files to understand the project’s purpose, guidelines, and expectations.Fork the project’s repository to your own account and clone it to your local machine.Create a new branch for your changes and make sure it is up to date with the original repository.Make your changes and test them locally. Here are some of them:You can learn new technologies and best practices by working on real-world problems.You can improve your coding skills by getting feedback from experienced developers.You can build your portfolio and reputation by showing your work to potential employers and clients.You can network with other developers and join communities that share your interests and goals.You can make a positive impact on the world by creating or improving software that people use and love.So how do you start contributing to open source projects on GitHub?\n"
     ]
    }
   ],
   "source": []
  },
  {
   "cell_type": "code",
   "execution_count": null,
   "id": "a16de9a0-06c0-4dc3-a27f-cf330baa9036",
   "metadata": {},
   "outputs": [],
   "source": []
  }
 ],
 "metadata": {
  "kernelspec": {
   "display_name": "Python 3 (ipykernel)",
   "language": "python",
   "name": "python3"
  },
  "language_info": {
   "codemirror_mode": {
    "name": "ipython",
    "version": 3
   },
   "file_extension": ".py",
   "mimetype": "text/x-python",
   "name": "python",
   "nbconvert_exporter": "python",
   "pygments_lexer": "ipython3",
   "version": "3.10.11"
  }
 },
 "nbformat": 4,
 "nbformat_minor": 5
}
